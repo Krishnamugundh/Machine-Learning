{
 "cells": [
  {
   "cell_type": "code",
   "execution_count": 1,
   "id": "6d71e9d3",
   "metadata": {
    "_cell_guid": "b1076dfc-b9ad-4769-8c92-a6c4dae69d19",
    "_uuid": "8f2839f25d086af736a60e9eeb907d3b93b6e0e5",
    "execution": {
     "iopub.execute_input": "2023-06-03T05:00:57.118660Z",
     "iopub.status.busy": "2023-06-03T05:00:57.117740Z",
     "iopub.status.idle": "2023-06-03T05:00:59.050738Z",
     "shell.execute_reply": "2023-06-03T05:00:59.049543Z"
    },
    "papermill": {
     "duration": 1.946482,
     "end_time": "2023-06-03T05:00:59.053820",
     "exception": false,
     "start_time": "2023-06-03T05:00:57.107338",
     "status": "completed"
    },
    "tags": []
   },
   "outputs": [
    {
     "name": "stdout",
     "output_type": "stream",
     "text": [
      "/kaggle/input/demand-forecasting-kernels-only/sample_submission.csv\n",
      "/kaggle/input/demand-forecasting-kernels-only/train.csv\n",
      "/kaggle/input/demand-forecasting-kernels-only/test.csv\n"
     ]
    }
   ],
   "source": [
    "# This Python 3 environment comes with many helpful analytics libraries installed\n",
    "# It is defined by the kaggle/python Docker image: https://github.com/kaggle/docker-python\n",
    "# For example, here's several helpful packages to load\n",
    "\n",
    "import numpy as np # linear algebra\n",
    "import pandas as pd # data processing, CSV file I/O (e.g. pd.read_csv)\n",
    "from xgboost import XGBClassifier\n",
    "import matplotlib.pyplot as plt\n",
    "\n",
    "%matplotlib inline\n",
    "\n",
    "# Input data files are available in the read-only \"../input/\" directory\n",
    "# For example, running this (by clicking run or pressing Shift+Enter) will list all files under the input directory\n",
    "\n",
    "import os\n",
    "for dirname, _, filenames in os.walk('/kaggle/input'):\n",
    "    for filename in filenames:\n",
    "        print(os.path.join(dirname, filename))\n",
    "\n",
    "# You can write up to 20GB to the current directory (/kaggle/working/) that gets preserved as output when you create a version using \"Save & Run All\" \n",
    "# You can also write temporary files to /kaggle/temp/, but they won't be saved outside of the current session"
   ]
  },
  {
   "cell_type": "code",
   "execution_count": 2,
   "id": "03977718",
   "metadata": {
    "execution": {
     "iopub.execute_input": "2023-06-03T05:00:59.071705Z",
     "iopub.status.busy": "2023-06-03T05:00:59.071215Z",
     "iopub.status.idle": "2023-06-03T05:01:00.063244Z",
     "shell.execute_reply": "2023-06-03T05:01:00.061612Z"
    },
    "papermill": {
     "duration": 1.004778,
     "end_time": "2023-06-03T05:01:00.066888",
     "exception": false,
     "start_time": "2023-06-03T05:00:59.062110",
     "status": "completed"
    },
    "tags": []
   },
   "outputs": [
    {
     "data": {
      "text/plain": [
       "(45000, 4)"
      ]
     },
     "execution_count": 2,
     "metadata": {},
     "output_type": "execute_result"
    }
   ],
   "source": [
    "train=pd.read_csv(\"/kaggle/input/demand-forecasting-kernels-only/train.csv\",parse_dates=[\"date\"])\n",
    "\n",
    "train.shape\n",
    "test=pd.read_csv(\"/kaggle/input/demand-forecasting-kernels-only/test.csv\",parse_dates=[\"date\"])\n",
    "test.shape"
   ]
  },
  {
   "cell_type": "code",
   "execution_count": 3,
   "id": "10d1abab",
   "metadata": {
    "execution": {
     "iopub.execute_input": "2023-06-03T05:01:00.085638Z",
     "iopub.status.busy": "2023-06-03T05:01:00.085191Z",
     "iopub.status.idle": "2023-06-03T05:01:00.116585Z",
     "shell.execute_reply": "2023-06-03T05:01:00.114809Z"
    },
    "papermill": {
     "duration": 0.044009,
     "end_time": "2023-06-03T05:01:00.119430",
     "exception": false,
     "start_time": "2023-06-03T05:01:00.075421",
     "status": "completed"
    },
    "tags": []
   },
   "outputs": [
    {
     "name": "stdout",
     "output_type": "stream",
     "text": [
      "<class 'pandas.core.frame.DataFrame'>\n",
      "RangeIndex: 913000 entries, 0 to 912999\n",
      "Data columns (total 4 columns):\n",
      " #   Column  Non-Null Count   Dtype         \n",
      "---  ------  --------------   -----         \n",
      " 0   date    913000 non-null  datetime64[ns]\n",
      " 1   store   913000 non-null  int64         \n",
      " 2   item    913000 non-null  int64         \n",
      " 3   sales   913000 non-null  int64         \n",
      "dtypes: datetime64[ns](1), int64(3)\n",
      "memory usage: 27.9 MB\n"
     ]
    }
   ],
   "source": [
    "train.info()\n"
   ]
  },
  {
   "cell_type": "code",
   "execution_count": 4,
   "id": "123edb0d",
   "metadata": {
    "execution": {
     "iopub.execute_input": "2023-06-03T05:01:00.138490Z",
     "iopub.status.busy": "2023-06-03T05:01:00.138039Z",
     "iopub.status.idle": "2023-06-03T05:01:00.156790Z",
     "shell.execute_reply": "2023-06-03T05:01:00.155102Z"
    },
    "papermill": {
     "duration": 0.031925,
     "end_time": "2023-06-03T05:01:00.159742",
     "exception": false,
     "start_time": "2023-06-03T05:01:00.127817",
     "status": "completed"
    },
    "tags": []
   },
   "outputs": [
    {
     "data": {
      "text/plain": [
       "<bound method NDFrame.describe of              date  store  item  sales\n",
       "0      2013-01-01      1     1     13\n",
       "1      2013-01-02      1     1     11\n",
       "2      2013-01-03      1     1     14\n",
       "3      2013-01-04      1     1     13\n",
       "4      2013-01-05      1     1     10\n",
       "...           ...    ...   ...    ...\n",
       "912995 2017-12-27     10    50     63\n",
       "912996 2017-12-28     10    50     59\n",
       "912997 2017-12-29     10    50     74\n",
       "912998 2017-12-30     10    50     62\n",
       "912999 2017-12-31     10    50     82\n",
       "\n",
       "[913000 rows x 4 columns]>"
      ]
     },
     "execution_count": 4,
     "metadata": {},
     "output_type": "execute_result"
    }
   ],
   "source": [
    "train.describe\n",
    "\n",
    "\n"
   ]
  },
  {
   "cell_type": "code",
   "execution_count": 5,
   "id": "0855ff77",
   "metadata": {
    "execution": {
     "iopub.execute_input": "2023-06-03T05:01:00.181287Z",
     "iopub.status.busy": "2023-06-03T05:01:00.180796Z",
     "iopub.status.idle": "2023-06-03T05:01:00.190157Z",
     "shell.execute_reply": "2023-06-03T05:01:00.188831Z"
    },
    "papermill": {
     "duration": 0.023761,
     "end_time": "2023-06-03T05:01:00.192750",
     "exception": false,
     "start_time": "2023-06-03T05:01:00.168989",
     "status": "completed"
    },
    "tags": []
   },
   "outputs": [
    {
     "data": {
      "text/plain": [
       "date     datetime64[ns]\n",
       "store             int64\n",
       "item              int64\n",
       "sales             int64\n",
       "dtype: object"
      ]
     },
     "execution_count": 5,
     "metadata": {},
     "output_type": "execute_result"
    }
   ],
   "source": [
    "train.dtypes"
   ]
  },
  {
   "cell_type": "code",
   "execution_count": 6,
   "id": "c841a70e",
   "metadata": {
    "execution": {
     "iopub.execute_input": "2023-06-03T05:01:00.211116Z",
     "iopub.status.busy": "2023-06-03T05:01:00.210659Z",
     "iopub.status.idle": "2023-06-03T05:01:19.923643Z",
     "shell.execute_reply": "2023-06-03T05:01:19.922400Z"
    },
    "papermill": {
     "duration": 19.725323,
     "end_time": "2023-06-03T05:01:19.926400",
     "exception": false,
     "start_time": "2023-06-03T05:01:00.201077",
     "status": "completed"
    },
    "tags": []
   },
   "outputs": [
    {
     "data": {
      "text/plain": [
       "<bound method NDFrame.describe of           id       date  store  item  Year Month day\n",
       "0          0 2018-01-01      1     1  2018    01  01\n",
       "1          1 2018-01-02      1     1  2018    01  02\n",
       "2          2 2018-01-03      1     1  2018    01  03\n",
       "3          3 2018-01-04      1     1  2018    01  04\n",
       "4          4 2018-01-05      1     1  2018    01  05\n",
       "...      ...        ...    ...   ...   ...   ...  ..\n",
       "44995  44995 2018-03-27     10    50  2018    03  27\n",
       "44996  44996 2018-03-28     10    50  2018    03  28\n",
       "44997  44997 2018-03-29     10    50  2018    03  29\n",
       "44998  44998 2018-03-30     10    50  2018    03  30\n",
       "44999  44999 2018-03-31     10    50  2018    03  31\n",
       "\n",
       "[45000 rows x 7 columns]>"
      ]
     },
     "execution_count": 6,
     "metadata": {},
     "output_type": "execute_result"
    }
   ],
   "source": [
    "target=train['sales']\n",
    "from sklearn import preprocessing\n",
    "  \n",
    "# label_encoder object knows how to understand word labels.\n",
    "label_encoder = preprocessing.LabelEncoder()\n",
    "  \n",
    "# Encode labels in column 'species'.\n",
    "\n",
    "train['Year'] = train['date'].dt.strftime('%Y')\n",
    "train['Month'] = train['date'].dt.strftime('%m')\n",
    "train['day'] = train['date'].dt.strftime('%d')\n",
    "\n",
    "test['Year'] = test['date'].dt.strftime('%Y')\n",
    "test['Month'] = test['date'].dt.strftime('%m')\n",
    "test['day'] = test['date'].dt.strftime('%d')\n",
    "\n",
    "test.describe\n",
    "\n"
   ]
  },
  {
   "cell_type": "code",
   "execution_count": 7,
   "id": "8cda86c2",
   "metadata": {
    "execution": {
     "iopub.execute_input": "2023-06-03T05:01:19.947096Z",
     "iopub.status.busy": "2023-06-03T05:01:19.945474Z",
     "iopub.status.idle": "2023-06-03T05:01:19.955843Z",
     "shell.execute_reply": "2023-06-03T05:01:19.954476Z"
    },
    "papermill": {
     "duration": 0.023309,
     "end_time": "2023-06-03T05:01:19.958576",
     "exception": false,
     "start_time": "2023-06-03T05:01:19.935267",
     "status": "completed"
    },
    "tags": []
   },
   "outputs": [
    {
     "data": {
      "text/plain": [
       "date     datetime64[ns]\n",
       "store             int64\n",
       "item              int64\n",
       "sales             int64\n",
       "Year             object\n",
       "Month            object\n",
       "day              object\n",
       "dtype: object"
      ]
     },
     "execution_count": 7,
     "metadata": {},
     "output_type": "execute_result"
    }
   ],
   "source": [
    "train.dtypes"
   ]
  },
  {
   "cell_type": "code",
   "execution_count": 8,
   "id": "1c85b9ba",
   "metadata": {
    "execution": {
     "iopub.execute_input": "2023-06-03T05:01:19.979330Z",
     "iopub.status.busy": "2023-06-03T05:01:19.978756Z",
     "iopub.status.idle": "2023-06-03T05:01:21.205976Z",
     "shell.execute_reply": "2023-06-03T05:01:21.205015Z"
    },
    "papermill": {
     "duration": 1.240572,
     "end_time": "2023-06-03T05:01:21.208462",
     "exception": false,
     "start_time": "2023-06-03T05:01:19.967890",
     "status": "completed"
    },
    "tags": []
   },
   "outputs": [
    {
     "data": {
      "text/plain": [
       "date     datetime64[ns]\n",
       "store             int64\n",
       "item              int64\n",
       "sales             int64\n",
       "Year              int64\n",
       "Month             int64\n",
       "day               int64\n",
       "dtype: object"
      ]
     },
     "execution_count": 8,
     "metadata": {},
     "output_type": "execute_result"
    }
   ],
   "source": [
    "train['day']= label_encoder.fit_transform(train['day'])\n",
    "train['Year']= label_encoder.fit_transform(train['Year'])\n",
    "train['Month']= label_encoder.fit_transform(train['Month'])\n",
    "target=label_encoder.fit_transform(target)\n",
    "\n",
    "test['day']= label_encoder.fit_transform(test['day'])\n",
    "test['Year']= label_encoder.fit_transform(test['Year'])\n",
    "test['Month']= label_encoder.fit_transform(test['Month'])\n",
    "\n",
    "\n",
    "train.dtypes\n",
    "\n"
   ]
  },
  {
   "cell_type": "code",
   "execution_count": 9,
   "id": "faef657b",
   "metadata": {
    "execution": {
     "iopub.execute_input": "2023-06-03T05:01:21.231195Z",
     "iopub.status.busy": "2023-06-03T05:01:21.230082Z",
     "iopub.status.idle": "2023-06-03T05:01:21.447882Z",
     "shell.execute_reply": "2023-06-03T05:01:21.446338Z"
    },
    "papermill": {
     "duration": 0.232813,
     "end_time": "2023-06-03T05:01:21.450893",
     "exception": false,
     "start_time": "2023-06-03T05:01:21.218080",
     "status": "completed"
    },
    "tags": []
   },
   "outputs": [
    {
     "name": "stderr",
     "output_type": "stream",
     "text": [
      "/tmp/ipykernel_20/897721491.py:1: FutureWarning: The default value of numeric_only in DataFrame.corr is deprecated. In a future version, it will default to False. Select only valid columns or specify the value of numeric_only to silence this warning.\n",
      "  corr=train.corr()\n"
     ]
    },
    {
     "data": {
      "text/html": [
       "<div>\n",
       "<style scoped>\n",
       "    .dataframe tbody tr th:only-of-type {\n",
       "        vertical-align: middle;\n",
       "    }\n",
       "\n",
       "    .dataframe tbody tr th {\n",
       "        vertical-align: top;\n",
       "    }\n",
       "\n",
       "    .dataframe thead th {\n",
       "        text-align: right;\n",
       "    }\n",
       "</style>\n",
       "<table border=\"1\" class=\"dataframe\">\n",
       "  <thead>\n",
       "    <tr style=\"text-align: right;\">\n",
       "      <th></th>\n",
       "      <th>store</th>\n",
       "      <th>item</th>\n",
       "      <th>sales</th>\n",
       "      <th>Year</th>\n",
       "      <th>Month</th>\n",
       "      <th>day</th>\n",
       "    </tr>\n",
       "  </thead>\n",
       "  <tbody>\n",
       "    <tr>\n",
       "      <th>store</th>\n",
       "      <td>1.000000e+00</td>\n",
       "      <td>7.276042e-15</td>\n",
       "      <td>-0.008170</td>\n",
       "      <td>-1.971350e-16</td>\n",
       "      <td>-4.500688e-16</td>\n",
       "      <td>-4.920966e-16</td>\n",
       "    </tr>\n",
       "    <tr>\n",
       "      <th>item</th>\n",
       "      <td>7.276042e-15</td>\n",
       "      <td>1.000000e+00</td>\n",
       "      <td>-0.055998</td>\n",
       "      <td>-1.017161e-14</td>\n",
       "      <td>4.093306e-15</td>\n",
       "      <td>-2.945987e-14</td>\n",
       "    </tr>\n",
       "    <tr>\n",
       "      <th>sales</th>\n",
       "      <td>-8.170361e-03</td>\n",
       "      <td>-5.599807e-02</td>\n",
       "      <td>1.000000</td>\n",
       "      <td>1.823597e-01</td>\n",
       "      <td>8.741417e-02</td>\n",
       "      <td>2.791264e-03</td>\n",
       "    </tr>\n",
       "    <tr>\n",
       "      <th>Year</th>\n",
       "      <td>-1.971350e-16</td>\n",
       "      <td>-1.017161e-14</td>\n",
       "      <td>0.182360</td>\n",
       "      <td>1.000000e+00</td>\n",
       "      <td>-5.080291e-04</td>\n",
       "      <td>5.841665e-04</td>\n",
       "    </tr>\n",
       "    <tr>\n",
       "      <th>Month</th>\n",
       "      <td>-4.500688e-16</td>\n",
       "      <td>4.093306e-15</td>\n",
       "      <td>0.087414</td>\n",
       "      <td>-5.080291e-04</td>\n",
       "      <td>1.000000e+00</td>\n",
       "      <td>1.079604e-02</td>\n",
       "    </tr>\n",
       "    <tr>\n",
       "      <th>day</th>\n",
       "      <td>-4.920966e-16</td>\n",
       "      <td>-2.945987e-14</td>\n",
       "      <td>0.002791</td>\n",
       "      <td>5.841665e-04</td>\n",
       "      <td>1.079604e-02</td>\n",
       "      <td>1.000000e+00</td>\n",
       "    </tr>\n",
       "  </tbody>\n",
       "</table>\n",
       "</div>"
      ],
      "text/plain": [
       "              store          item     sales          Year         Month  \\\n",
       "store  1.000000e+00  7.276042e-15 -0.008170 -1.971350e-16 -4.500688e-16   \n",
       "item   7.276042e-15  1.000000e+00 -0.055998 -1.017161e-14  4.093306e-15   \n",
       "sales -8.170361e-03 -5.599807e-02  1.000000  1.823597e-01  8.741417e-02   \n",
       "Year  -1.971350e-16 -1.017161e-14  0.182360  1.000000e+00 -5.080291e-04   \n",
       "Month -4.500688e-16  4.093306e-15  0.087414 -5.080291e-04  1.000000e+00   \n",
       "day   -4.920966e-16 -2.945987e-14  0.002791  5.841665e-04  1.079604e-02   \n",
       "\n",
       "                day  \n",
       "store -4.920966e-16  \n",
       "item  -2.945987e-14  \n",
       "sales  2.791264e-03  \n",
       "Year   5.841665e-04  \n",
       "Month  1.079604e-02  \n",
       "day    1.000000e+00  "
      ]
     },
     "execution_count": 9,
     "metadata": {},
     "output_type": "execute_result"
    }
   ],
   "source": [
    "corr=train.corr()\n",
    "corr"
   ]
  },
  {
   "cell_type": "code",
   "execution_count": 10,
   "id": "c554b37f",
   "metadata": {
    "execution": {
     "iopub.execute_input": "2023-06-03T05:01:21.473247Z",
     "iopub.status.busy": "2023-06-03T05:01:21.472818Z",
     "iopub.status.idle": "2023-06-03T05:01:21.923570Z",
     "shell.execute_reply": "2023-06-03T05:01:21.922082Z"
    },
    "papermill": {
     "duration": 0.465288,
     "end_time": "2023-06-03T05:01:21.926558",
     "exception": false,
     "start_time": "2023-06-03T05:01:21.461270",
     "status": "completed"
    },
    "tags": []
   },
   "outputs": [
    {
     "data": {
      "image/png": "[encoded data removed]",
      "text/plain": [
       "<Figure size 600x600 with 1 Axes>"
      ]
     },
     "metadata": {},
     "output_type": "display_data"
    }
   ],
   "source": [
    "fig = plt.figure(figsize=(6,6))\n",
    "plt.matshow(corr, cmap='RdBu', fignum=fig.number)\n",
    "plt.xticks(range(len(corr.columns)), corr.columns, rotation='vertical');\n",
    "plt.yticks(range(len(corr.columns)), corr.columns);"
   ]
  },
  {
   "cell_type": "code",
   "execution_count": 11,
   "id": "dde65671",
   "metadata": {
    "execution": {
     "iopub.execute_input": "2023-06-03T05:01:21.948818Z",
     "iopub.status.busy": "2023-06-03T05:01:21.947608Z",
     "iopub.status.idle": "2023-06-03T05:01:21.953112Z",
     "shell.execute_reply": "2023-06-03T05:01:21.952130Z"
    },
    "papermill": {
     "duration": 0.019538,
     "end_time": "2023-06-03T05:01:21.955751",
     "exception": false,
     "start_time": "2023-06-03T05:01:21.936213",
     "status": "completed"
    },
    "tags": []
   },
   "outputs": [],
   "source": [
    "del train['sales']\n",
    "\n"
   ]
  },
  {
   "cell_type": "code",
   "execution_count": 12,
   "id": "73ff1231",
   "metadata": {
    "execution": {
     "iopub.execute_input": "2023-06-03T05:01:21.978158Z",
     "iopub.status.busy": "2023-06-03T05:01:21.977368Z",
     "iopub.status.idle": "2023-06-03T05:01:21.983116Z",
     "shell.execute_reply": "2023-06-03T05:01:21.981675Z"
    },
    "papermill": {
     "duration": 0.020134,
     "end_time": "2023-06-03T05:01:21.985951",
     "exception": false,
     "start_time": "2023-06-03T05:01:21.965817",
     "status": "completed"
    },
    "tags": []
   },
   "outputs": [],
   "source": [
    "del test['date']"
   ]
  },
  {
   "cell_type": "code",
   "execution_count": 13,
   "id": "c1a0b871",
   "metadata": {
    "execution": {
     "iopub.execute_input": "2023-06-03T05:01:22.007991Z",
     "iopub.status.busy": "2023-06-03T05:01:22.007550Z",
     "iopub.status.idle": "2023-06-03T05:01:22.013231Z",
     "shell.execute_reply": "2023-06-03T05:01:22.012117Z"
    },
    "papermill": {
     "duration": 0.020027,
     "end_time": "2023-06-03T05:01:22.015781",
     "exception": false,
     "start_time": "2023-06-03T05:01:21.995754",
     "status": "completed"
    },
    "tags": []
   },
   "outputs": [],
   "source": [
    "del train['date']"
   ]
  },
  {
   "cell_type": "code",
   "execution_count": 14,
   "id": "230d7a20",
   "metadata": {
    "execution": {
     "iopub.execute_input": "2023-06-03T05:01:22.037841Z",
     "iopub.status.busy": "2023-06-03T05:01:22.037136Z",
     "iopub.status.idle": "2023-06-03T05:01:22.044443Z",
     "shell.execute_reply": "2023-06-03T05:01:22.042810Z"
    },
    "papermill": {
     "duration": 0.022697,
     "end_time": "2023-06-03T05:01:22.048359",
     "exception": false,
     "start_time": "2023-06-03T05:01:22.025662",
     "status": "completed"
    },
    "tags": []
   },
   "outputs": [],
   "source": [
    "del test['id']"
   ]
  },
  {
   "cell_type": "code",
   "execution_count": 15,
   "id": "259a3686",
   "metadata": {
    "execution": {
     "iopub.execute_input": "2023-06-03T05:01:22.072546Z",
     "iopub.status.busy": "2023-06-03T05:01:22.071312Z",
     "iopub.status.idle": "2023-06-03T05:01:22.081006Z",
     "shell.execute_reply": "2023-06-03T05:01:22.080043Z"
    },
    "papermill": {
     "duration": 0.023891,
     "end_time": "2023-06-03T05:01:22.083703",
     "exception": false,
     "start_time": "2023-06-03T05:01:22.059812",
     "status": "completed"
    },
    "tags": []
   },
   "outputs": [
    {
     "data": {
      "text/plain": [
       "store    int64\n",
       "item     int64\n",
       "Year     int64\n",
       "Month    int64\n",
       "day      int64\n",
       "dtype: object"
      ]
     },
     "execution_count": 15,
     "metadata": {},
     "output_type": "execute_result"
    }
   ],
   "source": [
    "train.dtypes"
   ]
  },
  {
   "cell_type": "code",
   "execution_count": 16,
   "id": "793730a4",
   "metadata": {
    "execution": {
     "iopub.execute_input": "2023-06-03T05:01:22.105722Z",
     "iopub.status.busy": "2023-06-03T05:01:22.104955Z",
     "iopub.status.idle": "2023-06-03T05:01:22.115592Z",
     "shell.execute_reply": "2023-06-03T05:01:22.114306Z"
    },
    "papermill": {
     "duration": 0.024827,
     "end_time": "2023-06-03T05:01:22.118326",
     "exception": false,
     "start_time": "2023-06-03T05:01:22.093499",
     "status": "completed"
    },
    "tags": []
   },
   "outputs": [
    {
     "data": {
      "text/plain": [
       "<bound method NDFrame.describe of         store  item  Year  Month  day\n",
       "0           1     1     0      0    0\n",
       "1           1     1     0      0    1\n",
       "2           1     1     0      0    2\n",
       "3           1     1     0      0    3\n",
       "4           1     1     0      0    4\n",
       "...       ...   ...   ...    ...  ...\n",
       "912995     10    50     4     11   26\n",
       "912996     10    50     4     11   27\n",
       "912997     10    50     4     11   28\n",
       "912998     10    50     4     11   29\n",
       "912999     10    50     4     11   30\n",
       "\n",
       "[913000 rows x 5 columns]>"
      ]
     },
     "execution_count": 16,
     "metadata": {},
     "output_type": "execute_result"
    }
   ],
   "source": [
    "train.describe"
   ]
  },
  {
   "cell_type": "code",
   "execution_count": 17,
   "id": "f9bb91b5",
   "metadata": {
    "execution": {
     "iopub.execute_input": "2023-06-03T05:01:22.142823Z",
     "iopub.status.busy": "2023-06-03T05:01:22.141957Z",
     "iopub.status.idle": "2023-06-03T06:39:29.038539Z",
     "shell.execute_reply": "2023-06-03T06:39:29.036788Z"
    },
    "papermill": {
     "duration": 5886.913969,
     "end_time": "2023-06-03T06:39:29.043164",
     "exception": false,
     "start_time": "2023-06-03T05:01:22.129195",
     "status": "completed"
    },
    "tags": []
   },
   "outputs": [],
   "source": [
    "model=XGBClassifier()\n",
    "model.fit(train,target)\n",
    "y_pred=model.predict(test)"
   ]
  },
  {
   "cell_type": "code",
   "execution_count": 18,
   "id": "7bbddcc2",
   "metadata": {
    "execution": {
     "iopub.execute_input": "2023-06-03T06:39:29.068630Z",
     "iopub.status.busy": "2023-06-03T06:39:29.067315Z",
     "iopub.status.idle": "2023-06-03T06:39:29.075451Z",
     "shell.execute_reply": "2023-06-03T06:39:29.074360Z"
    },
    "papermill": {
     "duration": 0.022168,
     "end_time": "2023-06-03T06:39:29.077862",
     "exception": false,
     "start_time": "2023-06-03T06:39:29.055694",
     "status": "completed"
    },
    "tags": []
   },
   "outputs": [
    {
     "data": {
      "text/plain": [
       "array([11, 11, 10, ..., 74, 74, 67])"
      ]
     },
     "execution_count": 18,
     "metadata": {},
     "output_type": "execute_result"
    }
   ],
   "source": [
    "y_pred"
   ]
  },
  {
   "cell_type": "code",
   "execution_count": 19,
   "id": "ffdc0277",
   "metadata": {
    "execution": {
     "iopub.execute_input": "2023-06-03T06:39:29.100400Z",
     "iopub.status.busy": "2023-06-03T06:39:29.099542Z",
     "iopub.status.idle": "2023-06-03T06:39:29.159003Z",
     "shell.execute_reply": "2023-06-03T06:39:29.157950Z"
    },
    "papermill": {
     "duration": 0.073452,
     "end_time": "2023-06-03T06:39:29.161458",
     "exception": false,
     "start_time": "2023-06-03T06:39:29.088006",
     "status": "completed"
    },
    "tags": []
   },
   "outputs": [
    {
     "data": {
      "text/plain": [
       "0            0\n",
       "1            1\n",
       "2            2\n",
       "3            3\n",
       "4            4\n",
       "         ...  \n",
       "44995    44995\n",
       "44996    44996\n",
       "44997    44997\n",
       "44998    44998\n",
       "44999    44999\n",
       "Name: id, Length: 45000, dtype: int64"
      ]
     },
     "execution_count": 19,
     "metadata": {},
     "output_type": "execute_result"
    }
   ],
   "source": [
    "test=pd.read_csv(\"/kaggle/input/demand-forecasting-kernels-only/test.csv\",parse_dates=[\"date\"])\n",
    "test['id']"
   ]
  },
  {
   "cell_type": "code",
   "execution_count": 20,
   "id": "3578978d",
   "metadata": {
    "execution": {
     "iopub.execute_input": "2023-06-03T06:39:29.182954Z",
     "iopub.status.busy": "2023-06-03T06:39:29.182581Z",
     "iopub.status.idle": "2023-06-03T06:39:29.211616Z",
     "shell.execute_reply": "2023-06-03T06:39:29.210547Z"
    },
    "papermill": {
     "duration": 0.043077,
     "end_time": "2023-06-03T06:39:29.214417",
     "exception": false,
     "start_time": "2023-06-03T06:39:29.171340",
     "status": "completed"
    },
    "tags": []
   },
   "outputs": [],
   "source": [
    "sample=pd.read_csv(\"/kaggle/input/demand-forecasting-kernels-only/sample_submission.csv\")"
   ]
  },
  {
   "cell_type": "code",
   "execution_count": 21,
   "id": "24e17047",
   "metadata": {
    "execution": {
     "iopub.execute_input": "2023-06-03T06:39:29.236393Z",
     "iopub.status.busy": "2023-06-03T06:39:29.235735Z",
     "iopub.status.idle": "2023-06-03T06:39:29.244274Z",
     "shell.execute_reply": "2023-06-03T06:39:29.243037Z"
    },
    "papermill": {
     "duration": 0.022037,
     "end_time": "2023-06-03T06:39:29.246469",
     "exception": false,
     "start_time": "2023-06-03T06:39:29.224432",
     "status": "completed"
    },
    "tags": []
   },
   "outputs": [
    {
     "data": {
      "text/plain": [
       "{'id': 0            0\n",
       " 1            1\n",
       " 2            2\n",
       " 3            3\n",
       " 4            4\n",
       "          ...  \n",
       " 44995    44995\n",
       " 44996    44996\n",
       " 44997    44997\n",
       " 44998    44998\n",
       " 44999    44999\n",
       " Name: id, Length: 45000, dtype: int64,\n",
       " 'sales': array([11, 11, 10, ..., 74, 74, 67])}"
      ]
     },
     "execution_count": 21,
     "metadata": {},
     "output_type": "execute_result"
    }
   ],
   "source": [
    "dict={'id': test['id'],'sales':(y_pred)}\n",
    "dict"
   ]
  },
  {
   "cell_type": "code",
   "execution_count": 22,
   "id": "32b83832",
   "metadata": {
    "execution": {
     "iopub.execute_input": "2023-06-03T06:39:29.268966Z",
     "iopub.status.busy": "2023-06-03T06:39:29.268336Z",
     "iopub.status.idle": "2023-06-03T06:39:29.278479Z",
     "shell.execute_reply": "2023-06-03T06:39:29.277715Z"
    },
    "papermill": {
     "duration": 0.023857,
     "end_time": "2023-06-03T06:39:29.280694",
     "exception": false,
     "start_time": "2023-06-03T06:39:29.256837",
     "status": "completed"
    },
    "tags": []
   },
   "outputs": [
    {
     "data": {
      "text/plain": [
       "<bound method NDFrame.describe of           id  sales\n",
       "0          0     11\n",
       "1          1     11\n",
       "2          2     10\n",
       "3          3     14\n",
       "4          4     10\n",
       "...      ...    ...\n",
       "44995  44995     53\n",
       "44996  44996     74\n",
       "44997  44997     74\n",
       "44998  44998     74\n",
       "44999  44999     67\n",
       "\n",
       "[45000 rows x 2 columns]>"
      ]
     },
     "execution_count": 22,
     "metadata": {},
     "output_type": "execute_result"
    }
   ],
   "source": [
    "df=pd.DataFrame(dict)\n",
    "df.describe"
   ]
  },
  {
   "cell_type": "code",
   "execution_count": 23,
   "id": "bbde437e",
   "metadata": {
    "execution": {
     "iopub.execute_input": "2023-06-03T06:39:29.304529Z",
     "iopub.status.busy": "2023-06-03T06:39:29.303858Z",
     "iopub.status.idle": "2023-06-03T06:39:29.413092Z",
     "shell.execute_reply": "2023-06-03T06:39:29.412064Z"
    },
    "papermill": {
     "duration": 0.124236,
     "end_time": "2023-06-03T06:39:29.415827",
     "exception": false,
     "start_time": "2023-06-03T06:39:29.291591",
     "status": "completed"
    },
    "tags": []
   },
   "outputs": [],
   "source": [
    "df.to_csv('submission.csv',index=False)"
   ]
  }
 ],
 "metadata": {
  "kernelspec": {
   "display_name": "Python 3",
   "language": "python",
   "name": "python3"
  },
  "language_info": {
   "codemirror_mode": {
    "name": "ipython",
    "version": 3
   },
   "file_extension": ".py",
   "mimetype": "text/x-python",
   "name": "python",
   "nbconvert_exporter": "python",
   "pygments_lexer": "ipython3",
   "version": "3.10.10"
  },
  "papermill": {
   "default_parameters": {},
   "duration": 5926.707499,
   "end_time": "2023-06-03T06:39:30.566060",
   "environment_variables": {},
   "exception": null,
   "input_path": "__notebook__.ipynb",
   "output_path": "__notebook__.ipynb",
   "parameters": {},
   "start_time": "2023-06-03T05:00:43.858561",
   "version": "2.4.0"
  }
 },
 "nbformat": 4,
 "nbformat_minor": 5
}
